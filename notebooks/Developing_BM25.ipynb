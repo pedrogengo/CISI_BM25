{
  "nbformat": 4,
  "nbformat_minor": 0,
  "metadata": {
    "colab": {
      "provenance": [],
      "toc_visible": true,
      "authorship_tag": "ABX9TyMVwJ65cZkGYjOcFdtYYS+3",
      "include_colab_link": true
    },
    "kernelspec": {
      "name": "python3",
      "display_name": "Python 3"
    },
    "language_info": {
      "name": "python"
    }
  },
  "cells": [
    {
      "cell_type": "markdown",
      "metadata": {
        "id": "view-in-github",
        "colab_type": "text"
      },
      "source": [
        "<a href=\"https://colab.research.google.com/github/pedrogengo/CISI_BM25/blob/main/notebooks/Developing_BM25.ipynb\" target=\"_parent\"><img src=\"https://colab.research.google.com/assets/colab-badge.svg\" alt=\"Open In Colab\"/></a>"
      ]
    },
    {
      "cell_type": "markdown",
      "source": [
        "# BM25: Entendimento e implementação\n",
        "\n",
        "Nesse notebook iremos entender como é calculado o score do BM25 e depois iremos implementá-lo."
      ],
      "metadata": {
        "id": "kddIngVT9JVI"
      }
    },
    {
      "cell_type": "markdown",
      "source": [
        "## 1. Explicação\n",
        "\n",
        "O BM25 tenta resolver o problema de representar textos em um espaço que seja possível encontrar os documentos mais próximos/semelhantes à uma query. Para isso, assim como o TFIDF, fazemos uso de dois conceitos principais:\n",
        "\n",
        "- Frequência do termo: quantidade de vezes que um termo/token aparece em um documento;\n",
        "- Frequência de documentos inversa: avalia em quantos documentos um mesmo termo aparece. Logo, se um termo aparece em muito documentos queremos que ele tenha um peso menor, por isso usamos o inverso dessa frequência.\n",
        "\n",
        "A principal diferença do BM25 para o TFIDF é que temos duas constantes ($k_1$ e $b$), onde $k_1$ é a constante que determina a velocidade de saturação da frequência do termo e $b$ diz qual o impacto do tamanho de um documento em relação a média de tamanhos.\n",
        "\n",
        "A equação que descreve o BM25 socre é a seguinte:\n",
        "\n",
        "\\begin{align}\n",
        "\\mbox{BM25}(D, Q) = \\sum_{i=1}^n IDF(q_i, D) \\frac{f(q_i, D) \\cdot (k_1 + 1)}{f(q_i, D) + k_1 \\cdot (1-b + b \\cdot |D|/d_{avg}))}\n",
        "\\end{align}\n",
        "\n",
        "\n",
        "Onde:\n",
        "\n",
        " - $f(q_i, D)$ é o número de vezes que o termo $q_i$ ocorre no documento $D$.\n",
        " - $|D|$ é o número de termos no documento $D$.\n",
        " - $d_{avg}$ é quantidade média de palavras em todos os documentos da coleção.\n",
        " - $b$ and $k_1$ são hiperparâmetros do BM25.\n",
        "\n",
        "\n",
        " Caso $k_1$ seja 0, teremos a mesma equação do TFIDF para cada termo da query. Mas o que acontece conforme aumentamos o valor de $k_1$? Iremos manter o valor de $b$ como zero e usaremos apenas a equação $\\frac{f(q_i, D) \\cdot (k_1 + 1)}{f(q_i, D) + k_1}$ para nossa análise."
      ],
      "metadata": {
        "id": "PcIiV0Vgu1D8"
      }
    },
    {
      "cell_type": "code",
      "source": [
        "import numpy as np\n",
        "import plotly.graph_objects as go\n",
        "\n",
        "def tf(freq, k):\n",
        "  return (freq * k) / (freq + k)\n",
        "\n",
        "\n",
        "f = np.arange(10)\n",
        "\n",
        "fig = go.Figure()\n",
        "for k in range(1, 15):\n",
        "  fig.add_trace(go.Scatter(x=f, y=tf(f, k), name=k))\n",
        "fig.show()"
      ],
      "metadata": {
        "colab": {
          "base_uri": "https://localhost:8080/",
          "height": 542
        },
        "id": "U-3vSwRg6txB",
        "outputId": "feef495b-cfec-4adb-c73d-ab915d92f927"
      },
      "execution_count": 15,
      "outputs": [
        {
          "output_type": "display_data",
          "data": {
            "text/html": [
              "<html>\n",
              "<head><meta charset=\"utf-8\" /></head>\n",
              "<body>\n",
              "    <div>            <script src=\"https://cdnjs.cloudflare.com/ajax/libs/mathjax/2.7.5/MathJax.js?config=TeX-AMS-MML_SVG\"></script><script type=\"text/javascript\">if (window.MathJax) {MathJax.Hub.Config({SVG: {font: \"STIX-Web\"}});}</script>                <script type=\"text/javascript\">window.PlotlyConfig = {MathJaxConfig: 'local'};</script>\n",
              "        <script src=\"https://cdn.plot.ly/plotly-2.8.3.min.js\"></script>                <div id=\"4749fac5-3c84-45e0-920d-80178fb0a119\" class=\"plotly-graph-div\" style=\"height:525px; width:100%;\"></div>            <script type=\"text/javascript\">                                    window.PLOTLYENV=window.PLOTLYENV || {};                                    if (document.getElementById(\"4749fac5-3c84-45e0-920d-80178fb0a119\")) {                    Plotly.newPlot(                        \"4749fac5-3c84-45e0-920d-80178fb0a119\",                        [{\"name\":\"1\",\"x\":[0,1,2,3,4,5,6,7,8,9],\"y\":[0.0,0.5,0.6666666666666666,0.75,0.8,0.8333333333333334,0.8571428571428571,0.875,0.8888888888888888,0.9],\"type\":\"scatter\"},{\"name\":\"2\",\"x\":[0,1,2,3,4,5,6,7,8,9],\"y\":[0.0,0.6666666666666666,1.0,1.2,1.3333333333333333,1.4285714285714286,1.5,1.5555555555555556,1.6,1.6363636363636365],\"type\":\"scatter\"},{\"name\":\"3\",\"x\":[0,1,2,3,4,5,6,7,8,9],\"y\":[0.0,0.75,1.2,1.5,1.7142857142857142,1.875,2.0,2.1,2.1818181818181817,2.25],\"type\":\"scatter\"},{\"name\":\"4\",\"x\":[0,1,2,3,4,5,6,7,8,9],\"y\":[0.0,0.8,1.3333333333333333,1.7142857142857142,2.0,2.2222222222222223,2.4,2.5454545454545454,2.6666666666666665,2.769230769230769],\"type\":\"scatter\"},{\"name\":\"5\",\"x\":[0,1,2,3,4,5,6,7,8,9],\"y\":[0.0,0.8333333333333334,1.4285714285714286,1.875,2.2222222222222223,2.5,2.727272727272727,2.9166666666666665,3.076923076923077,3.2142857142857144],\"type\":\"scatter\"},{\"name\":\"6\",\"x\":[0,1,2,3,4,5,6,7,8,9],\"y\":[0.0,0.8571428571428571,1.5,2.0,2.4,2.727272727272727,3.0,3.230769230769231,3.4285714285714284,3.6],\"type\":\"scatter\"},{\"name\":\"7\",\"x\":[0,1,2,3,4,5,6,7,8,9],\"y\":[0.0,0.875,1.5555555555555556,2.1,2.5454545454545454,2.9166666666666665,3.230769230769231,3.5,3.7333333333333334,3.9375],\"type\":\"scatter\"},{\"name\":\"8\",\"x\":[0,1,2,3,4,5,6,7,8,9],\"y\":[0.0,0.8888888888888888,1.6,2.1818181818181817,2.6666666666666665,3.076923076923077,3.4285714285714284,3.7333333333333334,4.0,4.235294117647059],\"type\":\"scatter\"},{\"name\":\"9\",\"x\":[0,1,2,3,4,5,6,7,8,9],\"y\":[0.0,0.9,1.6363636363636365,2.25,2.769230769230769,3.2142857142857144,3.6,3.9375,4.235294117647059,4.5],\"type\":\"scatter\"},{\"name\":\"10\",\"x\":[0,1,2,3,4,5,6,7,8,9],\"y\":[0.0,0.9090909090909091,1.6666666666666667,2.3076923076923075,2.857142857142857,3.3333333333333335,3.75,4.117647058823529,4.444444444444445,4.7368421052631575],\"type\":\"scatter\"},{\"name\":\"11\",\"x\":[0,1,2,3,4,5,6,7,8,9],\"y\":[0.0,0.9166666666666666,1.6923076923076923,2.357142857142857,2.933333333333333,3.4375,3.8823529411764706,4.277777777777778,4.631578947368421,4.95],\"type\":\"scatter\"},{\"name\":\"12\",\"x\":[0,1,2,3,4,5,6,7,8,9],\"y\":[0.0,0.9230769230769231,1.7142857142857142,2.4,3.0,3.5294117647058822,4.0,4.421052631578948,4.8,5.142857142857143],\"type\":\"scatter\"},{\"name\":\"13\",\"x\":[0,1,2,3,4,5,6,7,8,9],\"y\":[0.0,0.9285714285714286,1.7333333333333334,2.4375,3.0588235294117645,3.611111111111111,4.105263157894737,4.55,4.9523809523809526,5.318181818181818],\"type\":\"scatter\"},{\"name\":\"14\",\"x\":[0,1,2,3,4,5,6,7,8,9],\"y\":[0.0,0.9333333333333333,1.75,2.4705882352941178,3.111111111111111,3.6842105263157894,4.2,4.666666666666667,5.090909090909091,5.478260869565218],\"type\":\"scatter\"}],                        {\"template\":{\"data\":{\"bar\":[{\"error_x\":{\"color\":\"#2a3f5f\"},\"error_y\":{\"color\":\"#2a3f5f\"},\"marker\":{\"line\":{\"color\":\"#E5ECF6\",\"width\":0.5},\"pattern\":{\"fillmode\":\"overlay\",\"size\":10,\"solidity\":0.2}},\"type\":\"bar\"}],\"barpolar\":[{\"marker\":{\"line\":{\"color\":\"#E5ECF6\",\"width\":0.5},\"pattern\":{\"fillmode\":\"overlay\",\"size\":10,\"solidity\":0.2}},\"type\":\"barpolar\"}],\"carpet\":[{\"aaxis\":{\"endlinecolor\":\"#2a3f5f\",\"gridcolor\":\"white\",\"linecolor\":\"white\",\"minorgridcolor\":\"white\",\"startlinecolor\":\"#2a3f5f\"},\"baxis\":{\"endlinecolor\":\"#2a3f5f\",\"gridcolor\":\"white\",\"linecolor\":\"white\",\"minorgridcolor\":\"white\",\"startlinecolor\":\"#2a3f5f\"},\"type\":\"carpet\"}],\"choropleth\":[{\"colorbar\":{\"outlinewidth\":0,\"ticks\":\"\"},\"type\":\"choropleth\"}],\"contour\":[{\"colorbar\":{\"outlinewidth\":0,\"ticks\":\"\"},\"colorscale\":[[0.0,\"#0d0887\"],[0.1111111111111111,\"#46039f\"],[0.2222222222222222,\"#7201a8\"],[0.3333333333333333,\"#9c179e\"],[0.4444444444444444,\"#bd3786\"],[0.5555555555555556,\"#d8576b\"],[0.6666666666666666,\"#ed7953\"],[0.7777777777777778,\"#fb9f3a\"],[0.8888888888888888,\"#fdca26\"],[1.0,\"#f0f921\"]],\"type\":\"contour\"}],\"contourcarpet\":[{\"colorbar\":{\"outlinewidth\":0,\"ticks\":\"\"},\"type\":\"contourcarpet\"}],\"heatmap\":[{\"colorbar\":{\"outlinewidth\":0,\"ticks\":\"\"},\"colorscale\":[[0.0,\"#0d0887\"],[0.1111111111111111,\"#46039f\"],[0.2222222222222222,\"#7201a8\"],[0.3333333333333333,\"#9c179e\"],[0.4444444444444444,\"#bd3786\"],[0.5555555555555556,\"#d8576b\"],[0.6666666666666666,\"#ed7953\"],[0.7777777777777778,\"#fb9f3a\"],[0.8888888888888888,\"#fdca26\"],[1.0,\"#f0f921\"]],\"type\":\"heatmap\"}],\"heatmapgl\":[{\"colorbar\":{\"outlinewidth\":0,\"ticks\":\"\"},\"colorscale\":[[0.0,\"#0d0887\"],[0.1111111111111111,\"#46039f\"],[0.2222222222222222,\"#7201a8\"],[0.3333333333333333,\"#9c179e\"],[0.4444444444444444,\"#bd3786\"],[0.5555555555555556,\"#d8576b\"],[0.6666666666666666,\"#ed7953\"],[0.7777777777777778,\"#fb9f3a\"],[0.8888888888888888,\"#fdca26\"],[1.0,\"#f0f921\"]],\"type\":\"heatmapgl\"}],\"histogram\":[{\"marker\":{\"pattern\":{\"fillmode\":\"overlay\",\"size\":10,\"solidity\":0.2}},\"type\":\"histogram\"}],\"histogram2d\":[{\"colorbar\":{\"outlinewidth\":0,\"ticks\":\"\"},\"colorscale\":[[0.0,\"#0d0887\"],[0.1111111111111111,\"#46039f\"],[0.2222222222222222,\"#7201a8\"],[0.3333333333333333,\"#9c179e\"],[0.4444444444444444,\"#bd3786\"],[0.5555555555555556,\"#d8576b\"],[0.6666666666666666,\"#ed7953\"],[0.7777777777777778,\"#fb9f3a\"],[0.8888888888888888,\"#fdca26\"],[1.0,\"#f0f921\"]],\"type\":\"histogram2d\"}],\"histogram2dcontour\":[{\"colorbar\":{\"outlinewidth\":0,\"ticks\":\"\"},\"colorscale\":[[0.0,\"#0d0887\"],[0.1111111111111111,\"#46039f\"],[0.2222222222222222,\"#7201a8\"],[0.3333333333333333,\"#9c179e\"],[0.4444444444444444,\"#bd3786\"],[0.5555555555555556,\"#d8576b\"],[0.6666666666666666,\"#ed7953\"],[0.7777777777777778,\"#fb9f3a\"],[0.8888888888888888,\"#fdca26\"],[1.0,\"#f0f921\"]],\"type\":\"histogram2dcontour\"}],\"mesh3d\":[{\"colorbar\":{\"outlinewidth\":0,\"ticks\":\"\"},\"type\":\"mesh3d\"}],\"parcoords\":[{\"line\":{\"colorbar\":{\"outlinewidth\":0,\"ticks\":\"\"}},\"type\":\"parcoords\"}],\"pie\":[{\"automargin\":true,\"type\":\"pie\"}],\"scatter\":[{\"marker\":{\"colorbar\":{\"outlinewidth\":0,\"ticks\":\"\"}},\"type\":\"scatter\"}],\"scatter3d\":[{\"line\":{\"colorbar\":{\"outlinewidth\":0,\"ticks\":\"\"}},\"marker\":{\"colorbar\":{\"outlinewidth\":0,\"ticks\":\"\"}},\"type\":\"scatter3d\"}],\"scattercarpet\":[{\"marker\":{\"colorbar\":{\"outlinewidth\":0,\"ticks\":\"\"}},\"type\":\"scattercarpet\"}],\"scattergeo\":[{\"marker\":{\"colorbar\":{\"outlinewidth\":0,\"ticks\":\"\"}},\"type\":\"scattergeo\"}],\"scattergl\":[{\"marker\":{\"colorbar\":{\"outlinewidth\":0,\"ticks\":\"\"}},\"type\":\"scattergl\"}],\"scattermapbox\":[{\"marker\":{\"colorbar\":{\"outlinewidth\":0,\"ticks\":\"\"}},\"type\":\"scattermapbox\"}],\"scatterpolar\":[{\"marker\":{\"colorbar\":{\"outlinewidth\":0,\"ticks\":\"\"}},\"type\":\"scatterpolar\"}],\"scatterpolargl\":[{\"marker\":{\"colorbar\":{\"outlinewidth\":0,\"ticks\":\"\"}},\"type\":\"scatterpolargl\"}],\"scatterternary\":[{\"marker\":{\"colorbar\":{\"outlinewidth\":0,\"ticks\":\"\"}},\"type\":\"scatterternary\"}],\"surface\":[{\"colorbar\":{\"outlinewidth\":0,\"ticks\":\"\"},\"colorscale\":[[0.0,\"#0d0887\"],[0.1111111111111111,\"#46039f\"],[0.2222222222222222,\"#7201a8\"],[0.3333333333333333,\"#9c179e\"],[0.4444444444444444,\"#bd3786\"],[0.5555555555555556,\"#d8576b\"],[0.6666666666666666,\"#ed7953\"],[0.7777777777777778,\"#fb9f3a\"],[0.8888888888888888,\"#fdca26\"],[1.0,\"#f0f921\"]],\"type\":\"surface\"}],\"table\":[{\"cells\":{\"fill\":{\"color\":\"#EBF0F8\"},\"line\":{\"color\":\"white\"}},\"header\":{\"fill\":{\"color\":\"#C8D4E3\"},\"line\":{\"color\":\"white\"}},\"type\":\"table\"}]},\"layout\":{\"annotationdefaults\":{\"arrowcolor\":\"#2a3f5f\",\"arrowhead\":0,\"arrowwidth\":1},\"autotypenumbers\":\"strict\",\"coloraxis\":{\"colorbar\":{\"outlinewidth\":0,\"ticks\":\"\"}},\"colorscale\":{\"diverging\":[[0,\"#8e0152\"],[0.1,\"#c51b7d\"],[0.2,\"#de77ae\"],[0.3,\"#f1b6da\"],[0.4,\"#fde0ef\"],[0.5,\"#f7f7f7\"],[0.6,\"#e6f5d0\"],[0.7,\"#b8e186\"],[0.8,\"#7fbc41\"],[0.9,\"#4d9221\"],[1,\"#276419\"]],\"sequential\":[[0.0,\"#0d0887\"],[0.1111111111111111,\"#46039f\"],[0.2222222222222222,\"#7201a8\"],[0.3333333333333333,\"#9c179e\"],[0.4444444444444444,\"#bd3786\"],[0.5555555555555556,\"#d8576b\"],[0.6666666666666666,\"#ed7953\"],[0.7777777777777778,\"#fb9f3a\"],[0.8888888888888888,\"#fdca26\"],[1.0,\"#f0f921\"]],\"sequentialminus\":[[0.0,\"#0d0887\"],[0.1111111111111111,\"#46039f\"],[0.2222222222222222,\"#7201a8\"],[0.3333333333333333,\"#9c179e\"],[0.4444444444444444,\"#bd3786\"],[0.5555555555555556,\"#d8576b\"],[0.6666666666666666,\"#ed7953\"],[0.7777777777777778,\"#fb9f3a\"],[0.8888888888888888,\"#fdca26\"],[1.0,\"#f0f921\"]]},\"colorway\":[\"#636efa\",\"#EF553B\",\"#00cc96\",\"#ab63fa\",\"#FFA15A\",\"#19d3f3\",\"#FF6692\",\"#B6E880\",\"#FF97FF\",\"#FECB52\"],\"font\":{\"color\":\"#2a3f5f\"},\"geo\":{\"bgcolor\":\"white\",\"lakecolor\":\"white\",\"landcolor\":\"#E5ECF6\",\"showlakes\":true,\"showland\":true,\"subunitcolor\":\"white\"},\"hoverlabel\":{\"align\":\"left\"},\"hovermode\":\"closest\",\"mapbox\":{\"style\":\"light\"},\"paper_bgcolor\":\"white\",\"plot_bgcolor\":\"#E5ECF6\",\"polar\":{\"angularaxis\":{\"gridcolor\":\"white\",\"linecolor\":\"white\",\"ticks\":\"\"},\"bgcolor\":\"#E5ECF6\",\"radialaxis\":{\"gridcolor\":\"white\",\"linecolor\":\"white\",\"ticks\":\"\"}},\"scene\":{\"xaxis\":{\"backgroundcolor\":\"#E5ECF6\",\"gridcolor\":\"white\",\"gridwidth\":2,\"linecolor\":\"white\",\"showbackground\":true,\"ticks\":\"\",\"zerolinecolor\":\"white\"},\"yaxis\":{\"backgroundcolor\":\"#E5ECF6\",\"gridcolor\":\"white\",\"gridwidth\":2,\"linecolor\":\"white\",\"showbackground\":true,\"ticks\":\"\",\"zerolinecolor\":\"white\"},\"zaxis\":{\"backgroundcolor\":\"#E5ECF6\",\"gridcolor\":\"white\",\"gridwidth\":2,\"linecolor\":\"white\",\"showbackground\":true,\"ticks\":\"\",\"zerolinecolor\":\"white\"}},\"shapedefaults\":{\"line\":{\"color\":\"#2a3f5f\"}},\"ternary\":{\"aaxis\":{\"gridcolor\":\"white\",\"linecolor\":\"white\",\"ticks\":\"\"},\"baxis\":{\"gridcolor\":\"white\",\"linecolor\":\"white\",\"ticks\":\"\"},\"bgcolor\":\"#E5ECF6\",\"caxis\":{\"gridcolor\":\"white\",\"linecolor\":\"white\",\"ticks\":\"\"}},\"title\":{\"x\":0.05},\"xaxis\":{\"automargin\":true,\"gridcolor\":\"white\",\"linecolor\":\"white\",\"ticks\":\"\",\"title\":{\"standoff\":15},\"zerolinecolor\":\"white\",\"zerolinewidth\":2},\"yaxis\":{\"automargin\":true,\"gridcolor\":\"white\",\"linecolor\":\"white\",\"ticks\":\"\",\"title\":{\"standoff\":15},\"zerolinecolor\":\"white\",\"zerolinewidth\":2}}}},                        {\"responsive\": true}                    ).then(function(){\n",
              "                            \n",
              "var gd = document.getElementById('4749fac5-3c84-45e0-920d-80178fb0a119');\n",
              "var x = new MutationObserver(function (mutations, observer) {{\n",
              "        var display = window.getComputedStyle(gd).display;\n",
              "        if (!display || display === 'none') {{\n",
              "            console.log([gd, 'removed!']);\n",
              "            Plotly.purge(gd);\n",
              "            observer.disconnect();\n",
              "        }}\n",
              "}});\n",
              "\n",
              "// Listen for the removal of the full notebook cells\n",
              "var notebookContainer = gd.closest('#notebook-container');\n",
              "if (notebookContainer) {{\n",
              "    x.observe(notebookContainer, {childList: true});\n",
              "}}\n",
              "\n",
              "// Listen for the clearing of the current output cell\n",
              "var outputEl = gd.closest('.output');\n",
              "if (outputEl) {{\n",
              "    x.observe(outputEl, {childList: true});\n",
              "}}\n",
              "\n",
              "                        })                };                            </script>        </div>\n",
              "</body>\n",
              "</html>"
            ]
          },
          "metadata": {}
        }
      ]
    },
    {
      "cell_type": "markdown",
      "source": [
        "Podemos ver com o gráfico acima que quanto menor o valor de $k_1$, mais rápido ocorre a saturação. Isso quer dizer que se queremos dar importância a quantidade de vezes que um termo aparece no documento, devemos usar um valor mais alto para $k_1$. Já, se entendemos que, por exemplo, mais que 10 aparições já não nos diz muita coisa, usamos um valor de $k_1$ que sature perto dessa região.\n",
        "\n",
        "Já o parâmetro $b$, como já foi dito, indica qual a importância queremos dar ao tamanho do documento. Um exemplo disso é: Se temos dois documentos onde um mesmo termo aparece 2 vezes em cada um podemos dizer que então o score daqueles documentos para aquele termo deveria ser o mesmo? E se eu trouxer uma nova informação onde o primeiro documento tem 10 palavras e o segundo 200. Será que deveriam ter o mesmo score? Ou o maior, por ter mais palavras, tem mais chance de aparecer mais vezes e deveriamos de alguma forma normalizar essas aparições? O parâmetro $b$ serve para indicar o \"peso\" que queremos colocar para esse cenário.\n",
        "\n",
        "Vamos agora fazer uma análise fixando $k_1$ em 1 e variando o valor de $b$ e também do $|D|/d_{avg}$.\n"
      ],
      "metadata": {
        "id": "tqcrolZ0Iq31"
      }
    },
    {
      "cell_type": "code",
      "source": [
        "from plotly.subplots import make_subplots\n",
        "\n",
        "def tf(freq, k, b, norm):\n",
        "  return (freq * k) / (freq + (k * (1 - b + b * norm)))\n",
        "\n",
        "\n",
        "f = np.arange(10)\n",
        "\n",
        "fig = make_subplots(rows=10, cols=1, subplot_titles=(\"Norm=0.5\", \"Norm=1\", \"Norm=1.5\", \"Norm=2\", \"Norm=2.5\", \"Norm=3\", \"Norm=3.5\", \"Norm=4\", \"Norm=4.5\", \"Norm=5\"))\n",
        "plot_idx = 1\n",
        "for norm in np.arange(0.5, 5.5, 0.5):\n",
        "  for b in np.arange(0, 1, 0.2):\n",
        "    fig.add_trace(go.Scatter(x=f, y=tf(f, 1, b, norm), legendgroup = str(plot_idx), name=round(b, 2)), row = plot_idx, col=1)\n",
        "  plot_idx += 1\n",
        "\n",
        "fig.update_layout(height=5000, width=1000, legend_tracegroupgap=410)\n",
        "fig.show()"
      ],
      "metadata": {
        "id": "jncmLEUWL2pC",
        "colab": {
          "base_uri": "https://localhost:8080/",
          "height": 1000
        },
        "outputId": "73e0ceed-01dd-49b9-b943-f1a75510d915"
      },
      "execution_count": 42,
      "outputs": [
        {
          "output_type": "display_data",
          "data": {
            "text/html": [
              "<html>\n",
              "<head><meta charset=\"utf-8\" /></head>\n",
              "<body>\n",
              "    <div>            <script src=\"https://cdnjs.cloudflare.com/ajax/libs/mathjax/2.7.5/MathJax.js?config=TeX-AMS-MML_SVG\"></script><script type=\"text/javascript\">if (window.MathJax) {MathJax.Hub.Config({SVG: {font: \"STIX-Web\"}});}</script>                <script type=\"text/javascript\">window.PlotlyConfig = {MathJaxConfig: 'local'};</script>\n",
              "        <script src=\"https://cdn.plot.ly/plotly-2.8.3.min.js\"></script>                <div id=\"66d73d62-5ccb-4674-9b91-1b4423cfd6c1\" class=\"plotly-graph-div\" style=\"height:5000px; width:1000px;\"></div>            <script type=\"text/javascript\">                                    window.PLOTLYENV=window.PLOTLYENV || {};                                    if (document.getElementById(\"66d73d62-5ccb-4674-9b91-1b4423cfd6c1\")) {                    Plotly.newPlot(                        \"66d73d62-5ccb-4674-9b91-1b4423cfd6c1\",                        [{\"legendgroup\":\"1\",\"name\":\"0.0\",\"x\":[0,1,2,3,4,5,6,7,8,9],\"y\":[0.0,0.5,0.6666666666666666,0.75,0.8,0.8333333333333334,0.8571428571428571,0.875,0.8888888888888888,0.9],\"type\":\"scatter\",\"xaxis\":\"x\",\"yaxis\":\"y\"},{\"legendgroup\":\"1\",\"name\":\"0.2\",\"x\":[0,1,2,3,4,5,6,7,8,9],\"y\":[0.0,0.5263157894736842,0.6896551724137931,0.7692307692307693,0.8163265306122448,0.847457627118644,0.8695652173913043,0.8860759493670886,0.898876404494382,0.9090909090909091],\"type\":\"scatter\",\"xaxis\":\"x\",\"yaxis\":\"y\"},{\"legendgroup\":\"1\",\"name\":\"0.4\",\"x\":[0,1,2,3,4,5,6,7,8,9],\"y\":[0.0,0.5555555555555556,0.7142857142857143,0.7894736842105263,0.8333333333333334,0.8620689655172414,0.8823529411764706,0.8974358974358975,0.9090909090909091,0.9183673469387754],\"type\":\"scatter\",\"xaxis\":\"x\",\"yaxis\":\"y\"},{\"legendgroup\":\"1\",\"name\":\"0.6\",\"x\":[0,1,2,3,4,5,6,7,8,9],\"y\":[0.0,0.5882352941176471,0.7407407407407407,0.8108108108108107,0.851063829787234,0.8771929824561403,0.8955223880597015,0.9090909090909091,0.9195402298850576,0.9278350515463918],\"type\":\"scatter\",\"xaxis\":\"x\",\"yaxis\":\"y\"},{\"legendgroup\":\"1\",\"name\":\"0.8\",\"x\":[0,1,2,3,4,5,6,7,8,9],\"y\":[0.0,0.625,0.7692307692307692,0.8333333333333333,0.8695652173913044,0.8928571428571429,0.9090909090909092,0.9210526315789475,0.9302325581395349,0.9375],\"type\":\"scatter\",\"xaxis\":\"x\",\"yaxis\":\"y\"},{\"legendgroup\":\"2\",\"name\":\"0.0\",\"x\":[0,1,2,3,4,5,6,7,8,9],\"y\":[0.0,0.5,0.6666666666666666,0.75,0.8,0.8333333333333334,0.8571428571428571,0.875,0.8888888888888888,0.9],\"type\":\"scatter\",\"xaxis\":\"x2\",\"yaxis\":\"y2\"},{\"legendgroup\":\"2\",\"name\":\"0.2\",\"x\":[0,1,2,3,4,5,6,7,8,9],\"y\":[0.0,0.5,0.6666666666666666,0.75,0.8,0.8333333333333334,0.8571428571428571,0.875,0.8888888888888888,0.9],\"type\":\"scatter\",\"xaxis\":\"x2\",\"yaxis\":\"y2\"},{\"legendgroup\":\"2\",\"name\":\"0.4\",\"x\":[0,1,2,3,4,5,6,7,8,9],\"y\":[0.0,0.5,0.6666666666666666,0.75,0.8,0.8333333333333334,0.8571428571428571,0.875,0.8888888888888888,0.9],\"type\":\"scatter\",\"xaxis\":\"x2\",\"yaxis\":\"y2\"},{\"legendgroup\":\"2\",\"name\":\"0.6\",\"x\":[0,1,2,3,4,5,6,7,8,9],\"y\":[0.0,0.5,0.6666666666666666,0.75,0.8,0.8333333333333334,0.8571428571428571,0.875,0.8888888888888888,0.9],\"type\":\"scatter\",\"xaxis\":\"x2\",\"yaxis\":\"y2\"},{\"legendgroup\":\"2\",\"name\":\"0.8\",\"x\":[0,1,2,3,4,5,6,7,8,9],\"y\":[0.0,0.5,0.6666666666666666,0.75,0.8,0.8333333333333334,0.8571428571428571,0.875,0.8888888888888888,0.9],\"type\":\"scatter\",\"xaxis\":\"x2\",\"yaxis\":\"y2\"},{\"legendgroup\":\"3\",\"name\":\"0.0\",\"x\":[0,1,2,3,4,5,6,7,8,9],\"y\":[0.0,0.5,0.6666666666666666,0.75,0.8,0.8333333333333334,0.8571428571428571,0.875,0.8888888888888888,0.9],\"type\":\"scatter\",\"xaxis\":\"x3\",\"yaxis\":\"y3\"},{\"legendgroup\":\"3\",\"name\":\"0.2\",\"x\":[0,1,2,3,4,5,6,7,8,9],\"y\":[0.0,0.47619047619047616,0.6451612903225806,0.7317073170731708,0.7843137254901962,0.819672131147541,0.8450704225352114,0.8641975308641976,0.8791208791208791,0.8910891089108911],\"type\":\"scatter\",\"xaxis\":\"x3\",\"yaxis\":\"y3\"},{\"legendgroup\":\"3\",\"name\":\"0.4\",\"x\":[0,1,2,3,4,5,6,7,8,9],\"y\":[0.0,0.45454545454545453,0.625,0.7142857142857143,0.7692307692307692,0.8064516129032258,0.8333333333333333,0.853658536585366,0.8695652173913044,0.8823529411764707],\"type\":\"scatter\",\"xaxis\":\"x3\",\"yaxis\":\"y3\"},{\"legendgroup\":\"3\",\"name\":\"0.6\",\"x\":[0,1,2,3,4,5,6,7,8,9],\"y\":[0.0,0.4347826086956522,0.6060606060606061,0.6976744186046512,0.7547169811320755,0.7936507936507937,0.8219178082191781,0.8433734939759036,0.8602150537634408,0.8737864077669902],\"type\":\"scatter\",\"xaxis\":\"x3\",\"yaxis\":\"y3\"},{\"legendgroup\":\"3\",\"name\":\"0.8\",\"x\":[0,1,2,3,4,5,6,7,8,9],\"y\":[0.0,0.41666666666666663,0.588235294117647,0.6818181818181818,0.7407407407407407,0.78125,0.8108108108108107,0.8333333333333333,0.851063829787234,0.8653846153846153],\"type\":\"scatter\",\"xaxis\":\"x3\",\"yaxis\":\"y3\"},{\"legendgroup\":\"4\",\"name\":\"0.0\",\"x\":[0,1,2,3,4,5,6,7,8,9],\"y\":[0.0,0.5,0.6666666666666666,0.75,0.8,0.8333333333333334,0.8571428571428571,0.875,0.8888888888888888,0.9],\"type\":\"scatter\",\"xaxis\":\"x4\",\"yaxis\":\"y4\"},{\"legendgroup\":\"4\",\"name\":\"0.2\",\"x\":[0,1,2,3,4,5,6,7,8,9],\"y\":[0.0,0.45454545454545453,0.625,0.7142857142857143,0.7692307692307692,0.8064516129032258,0.8333333333333333,0.853658536585366,0.8695652173913044,0.8823529411764707],\"type\":\"scatter\",\"xaxis\":\"x4\",\"yaxis\":\"y4\"},{\"legendgroup\":\"4\",\"name\":\"0.4\",\"x\":[0,1,2,3,4,5,6,7,8,9],\"y\":[0.0,0.4166666666666667,0.5882352941176471,0.6818181818181818,0.7407407407407407,0.78125,0.8108108108108107,0.8333333333333333,0.851063829787234,0.8653846153846153],\"type\":\"scatter\",\"xaxis\":\"x4\",\"yaxis\":\"y4\"},{\"legendgroup\":\"4\",\"name\":\"0.6\",\"x\":[0,1,2,3,4,5,6,7,8,9],\"y\":[0.0,0.3846153846153846,0.5555555555555556,0.6521739130434783,0.7142857142857143,0.7575757575757576,0.7894736842105263,0.813953488372093,0.8333333333333334,0.8490566037735849],\"type\":\"scatter\",\"xaxis\":\"x4\",\"yaxis\":\"y4\"},{\"legendgroup\":\"4\",\"name\":\"0.8\",\"x\":[0,1,2,3,4,5,6,7,8,9],\"y\":[0.0,0.35714285714285715,0.5263157894736842,0.625,0.6896551724137931,0.7352941176470589,0.7692307692307693,0.7954545454545454,0.8163265306122448,0.8333333333333333],\"type\":\"scatter\",\"xaxis\":\"x4\",\"yaxis\":\"y4\"},{\"legendgroup\":\"5\",\"name\":\"0.0\",\"x\":[0,1,2,3,4,5,6,7,8,9],\"y\":[0.0,0.5,0.6666666666666666,0.75,0.8,0.8333333333333334,0.8571428571428571,0.875,0.8888888888888888,0.9],\"type\":\"scatter\",\"xaxis\":\"x5\",\"yaxis\":\"y5\"},{\"legendgroup\":\"5\",\"name\":\"0.2\",\"x\":[0,1,2,3,4,5,6,7,8,9],\"y\":[0.0,0.4347826086956522,0.6060606060606061,0.6976744186046512,0.7547169811320755,0.7936507936507937,0.8219178082191781,0.8433734939759036,0.8602150537634408,0.8737864077669902],\"type\":\"scatter\",\"xaxis\":\"x5\",\"yaxis\":\"y5\"},{\"legendgroup\":\"5\",\"name\":\"0.4\",\"x\":[0,1,2,3,4,5,6,7,8,9],\"y\":[0.0,0.3846153846153846,0.5555555555555556,0.6521739130434783,0.7142857142857143,0.7575757575757576,0.7894736842105263,0.813953488372093,0.8333333333333334,0.8490566037735849],\"type\":\"scatter\",\"xaxis\":\"x5\",\"yaxis\":\"y5\"},{\"legendgroup\":\"5\",\"name\":\"0.6\",\"x\":[0,1,2,3,4,5,6,7,8,9],\"y\":[0.0,0.3448275862068965,0.5128205128205128,0.6122448979591836,0.6779661016949152,0.7246376811594203,0.7594936708860759,0.7865168539325842,0.8080808080808081,0.8256880733944953],\"type\":\"scatter\",\"xaxis\":\"x5\",\"yaxis\":\"y5\"},{\"legendgroup\":\"5\",\"name\":\"0.8\",\"x\":[0,1,2,3,4,5,6,7,8,9],\"y\":[0.0,0.3125,0.47619047619047616,0.5769230769230769,0.6451612903225806,0.6944444444444444,0.7317073170731708,0.7608695652173914,0.7843137254901962,0.8035714285714286],\"type\":\"scatter\",\"xaxis\":\"x5\",\"yaxis\":\"y5\"},{\"legendgroup\":\"6\",\"name\":\"0.0\",\"x\":[0,1,2,3,4,5,6,7,8,9],\"y\":[0.0,0.5,0.6666666666666666,0.75,0.8,0.8333333333333334,0.8571428571428571,0.875,0.8888888888888888,0.9],\"type\":\"scatter\",\"xaxis\":\"x6\",\"yaxis\":\"y6\"},{\"legendgroup\":\"6\",\"name\":\"0.2\",\"x\":[0,1,2,3,4,5,6,7,8,9],\"y\":[0.0,0.41666666666666663,0.588235294117647,0.6818181818181818,0.7407407407407407,0.78125,0.8108108108108107,0.8333333333333333,0.851063829787234,0.8653846153846153],\"type\":\"scatter\",\"xaxis\":\"x6\",\"yaxis\":\"y6\"},{\"legendgroup\":\"6\",\"name\":\"0.4\",\"x\":[0,1,2,3,4,5,6,7,8,9],\"y\":[0.0,0.3571428571428571,0.5263157894736842,0.6249999999999999,0.689655172413793,0.7352941176470588,0.7692307692307692,0.7954545454545454,0.8163265306122448,0.8333333333333333],\"type\":\"scatter\",\"xaxis\":\"x6\",\"yaxis\":\"y6\"},{\"legendgroup\":\"6\",\"name\":\"0.6\",\"x\":[0,1,2,3,4,5,6,7,8,9],\"y\":[0.0,0.3125,0.47619047619047616,0.5769230769230769,0.6451612903225806,0.6944444444444444,0.7317073170731708,0.7608695652173914,0.7843137254901962,0.8035714285714286],\"type\":\"scatter\",\"xaxis\":\"x6\",\"yaxis\":\"y6\"},{\"legendgroup\":\"6\",\"name\":\"0.8\",\"x\":[0,1,2,3,4,5,6,7,8,9],\"y\":[0.0,0.27777777777777773,0.4347826086956521,0.5357142857142857,0.606060606060606,0.6578947368421052,0.6976744186046511,0.7291666666666665,0.7547169811320754,0.7758620689655171],\"type\":\"scatter\",\"xaxis\":\"x6\",\"yaxis\":\"y6\"},{\"legendgroup\":\"7\",\"name\":\"0.0\",\"x\":[0,1,2,3,4,5,6,7,8,9],\"y\":[0.0,0.5,0.6666666666666666,0.75,0.8,0.8333333333333334,0.8571428571428571,0.875,0.8888888888888888,0.9],\"type\":\"scatter\",\"xaxis\":\"x7\",\"yaxis\":\"y7\"},{\"legendgroup\":\"7\",\"name\":\"0.2\",\"x\":[0,1,2,3,4,5,6,7,8,9],\"y\":[0.0,0.4,0.5714285714285714,0.6666666666666666,0.7272727272727273,0.7692307692307693,0.8,0.8235294117647058,0.8421052631578947,0.8571428571428571],\"type\":\"scatter\",\"xaxis\":\"x7\",\"yaxis\":\"y7\"},{\"legendgroup\":\"7\",\"name\":\"0.4\",\"x\":[0,1,2,3,4,5,6,7,8,9],\"y\":[0.0,0.3333333333333333,0.5,0.6,0.6666666666666666,0.7142857142857143,0.75,0.7777777777777778,0.8,0.8181818181818182],\"type\":\"scatter\",\"xaxis\":\"x7\",\"yaxis\":\"y7\"},{\"legendgroup\":\"7\",\"name\":\"0.6\",\"x\":[0,1,2,3,4,5,6,7,8,9],\"y\":[0.0,0.2857142857142857,0.4444444444444444,0.5454545454545454,0.6153846153846154,0.6666666666666666,0.7058823529411765,0.7368421052631579,0.7619047619047619,0.782608695652174],\"type\":\"scatter\",\"xaxis\":\"x7\",\"yaxis\":\"y7\"},{\"legendgroup\":\"7\",\"name\":\"0.8\",\"x\":[0,1,2,3,4,5,6,7,8,9],\"y\":[0.0,0.25,0.4,0.5,0.5714285714285714,0.625,0.6666666666666666,0.7,0.7272727272727273,0.75],\"type\":\"scatter\",\"xaxis\":\"x7\",\"yaxis\":\"y7\"},{\"legendgroup\":\"8\",\"name\":\"0.0\",\"x\":[0,1,2,3,4,5,6,7,8,9],\"y\":[0.0,0.5,0.6666666666666666,0.75,0.8,0.8333333333333334,0.8571428571428571,0.875,0.8888888888888888,0.9],\"type\":\"scatter\",\"xaxis\":\"x8\",\"yaxis\":\"y8\"},{\"legendgroup\":\"8\",\"name\":\"0.2\",\"x\":[0,1,2,3,4,5,6,7,8,9],\"y\":[0.0,0.3846153846153846,0.5555555555555556,0.6521739130434783,0.7142857142857143,0.7575757575757576,0.7894736842105263,0.813953488372093,0.8333333333333334,0.8490566037735849],\"type\":\"scatter\",\"xaxis\":\"x8\",\"yaxis\":\"y8\"},{\"legendgroup\":\"8\",\"name\":\"0.4\",\"x\":[0,1,2,3,4,5,6,7,8,9],\"y\":[0.0,0.3125,0.47619047619047616,0.5769230769230769,0.6451612903225806,0.6944444444444444,0.7317073170731708,0.7608695652173914,0.7843137254901962,0.8035714285714286],\"type\":\"scatter\",\"xaxis\":\"x8\",\"yaxis\":\"y8\"},{\"legendgroup\":\"8\",\"name\":\"0.6\",\"x\":[0,1,2,3,4,5,6,7,8,9],\"y\":[0.0,0.2631578947368421,0.41666666666666663,0.5172413793103448,0.588235294117647,0.641025641025641,0.6818181818181818,0.7142857142857142,0.7407407407407407,0.7627118644067796],\"type\":\"scatter\",\"xaxis\":\"x8\",\"yaxis\":\"y8\"},{\"legendgroup\":\"8\",\"name\":\"0.8\",\"x\":[0,1,2,3,4,5,6,7,8,9],\"y\":[0.0,0.22727272727272727,0.37037037037037035,0.46875,0.5405405405405405,0.5952380952380952,0.6382978723404255,0.673076923076923,0.7017543859649122,0.7258064516129032],\"type\":\"scatter\",\"xaxis\":\"x8\",\"yaxis\":\"y8\"},{\"legendgroup\":\"9\",\"name\":\"0.0\",\"x\":[0,1,2,3,4,5,6,7,8,9],\"y\":[0.0,0.5,0.6666666666666666,0.75,0.8,0.8333333333333334,0.8571428571428571,0.875,0.8888888888888888,0.9],\"type\":\"scatter\",\"xaxis\":\"x9\",\"yaxis\":\"y9\"},{\"legendgroup\":\"9\",\"name\":\"0.2\",\"x\":[0,1,2,3,4,5,6,7,8,9],\"y\":[0.0,0.37037037037037035,0.5405405405405405,0.6382978723404255,0.7017543859649122,0.7462686567164178,0.7792207792207793,0.8045977011494253,0.8247422680412372,0.8411214953271029],\"type\":\"scatter\",\"xaxis\":\"x9\",\"yaxis\":\"y9\"},{\"legendgroup\":\"9\",\"name\":\"0.4\",\"x\":[0,1,2,3,4,5,6,7,8,9],\"y\":[0.0,0.29411764705882354,0.45454545454545453,0.5555555555555555,0.625,0.6756756756756757,0.7142857142857143,0.7446808510638298,0.7692307692307692,0.7894736842105263],\"type\":\"scatter\",\"xaxis\":\"x9\",\"yaxis\":\"y9\"},{\"legendgroup\":\"9\",\"name\":\"0.6\",\"x\":[0,1,2,3,4,5,6,7,8,9],\"y\":[0.0,0.24390243902439027,0.3921568627450981,0.49180327868852464,0.5633802816901409,0.617283950617284,0.6593406593406593,0.6930693069306931,0.7207207207207208,0.7438016528925621],\"type\":\"scatter\",\"xaxis\":\"x9\",\"yaxis\":\"y9\"},{\"legendgroup\":\"9\",\"name\":\"0.8\",\"x\":[0,1,2,3,4,5,6,7,8,9],\"y\":[0.0,0.20833333333333334,0.3448275862068966,0.4411764705882353,0.5128205128205129,0.5681818181818181,0.6122448979591836,0.6481481481481481,0.6779661016949152,0.703125],\"type\":\"scatter\",\"xaxis\":\"x9\",\"yaxis\":\"y9\"},{\"legendgroup\":\"10\",\"name\":\"0.0\",\"x\":[0,1,2,3,4,5,6,7,8,9],\"y\":[0.0,0.5,0.6666666666666666,0.75,0.8,0.8333333333333334,0.8571428571428571,0.875,0.8888888888888888,0.9],\"type\":\"scatter\",\"xaxis\":\"x10\",\"yaxis\":\"y10\"},{\"legendgroup\":\"10\",\"name\":\"0.2\",\"x\":[0,1,2,3,4,5,6,7,8,9],\"y\":[0.0,0.35714285714285715,0.5263157894736842,0.625,0.6896551724137931,0.7352941176470589,0.7692307692307693,0.7954545454545454,0.8163265306122448,0.8333333333333333],\"type\":\"scatter\",\"xaxis\":\"x10\",\"yaxis\":\"y10\"},{\"legendgroup\":\"10\",\"name\":\"0.4\",\"x\":[0,1,2,3,4,5,6,7,8,9],\"y\":[0.0,0.2777777777777778,0.4347826086956522,0.5357142857142857,0.6060606060606061,0.6578947368421053,0.6976744186046512,0.7291666666666667,0.7547169811320755,0.7758620689655172],\"type\":\"scatter\",\"xaxis\":\"x10\",\"yaxis\":\"y10\"},{\"legendgroup\":\"10\",\"name\":\"0.6\",\"x\":[0,1,2,3,4,5,6,7,8,9],\"y\":[0.0,0.22727272727272727,0.37037037037037035,0.46875,0.5405405405405405,0.5952380952380952,0.6382978723404255,0.673076923076923,0.7017543859649122,0.7258064516129032],\"type\":\"scatter\",\"xaxis\":\"x10\",\"yaxis\":\"y10\"},{\"legendgroup\":\"10\",\"name\":\"0.8\",\"x\":[0,1,2,3,4,5,6,7,8,9],\"y\":[0.0,0.1923076923076923,0.3225806451612903,0.41666666666666663,0.48780487804878053,0.5434782608695653,0.5882352941176471,0.625,0.6557377049180328,0.6818181818181819],\"type\":\"scatter\",\"xaxis\":\"x10\",\"yaxis\":\"y10\"}],                        {\"template\":{\"data\":{\"bar\":[{\"error_x\":{\"color\":\"#2a3f5f\"},\"error_y\":{\"color\":\"#2a3f5f\"},\"marker\":{\"line\":{\"color\":\"#E5ECF6\",\"width\":0.5},\"pattern\":{\"fillmode\":\"overlay\",\"size\":10,\"solidity\":0.2}},\"type\":\"bar\"}],\"barpolar\":[{\"marker\":{\"line\":{\"color\":\"#E5ECF6\",\"width\":0.5},\"pattern\":{\"fillmode\":\"overlay\",\"size\":10,\"solidity\":0.2}},\"type\":\"barpolar\"}],\"carpet\":[{\"aaxis\":{\"endlinecolor\":\"#2a3f5f\",\"gridcolor\":\"white\",\"linecolor\":\"white\",\"minorgridcolor\":\"white\",\"startlinecolor\":\"#2a3f5f\"},\"baxis\":{\"endlinecolor\":\"#2a3f5f\",\"gridcolor\":\"white\",\"linecolor\":\"white\",\"minorgridcolor\":\"white\",\"startlinecolor\":\"#2a3f5f\"},\"type\":\"carpet\"}],\"choropleth\":[{\"colorbar\":{\"outlinewidth\":0,\"ticks\":\"\"},\"type\":\"choropleth\"}],\"contour\":[{\"colorbar\":{\"outlinewidth\":0,\"ticks\":\"\"},\"colorscale\":[[0.0,\"#0d0887\"],[0.1111111111111111,\"#46039f\"],[0.2222222222222222,\"#7201a8\"],[0.3333333333333333,\"#9c179e\"],[0.4444444444444444,\"#bd3786\"],[0.5555555555555556,\"#d8576b\"],[0.6666666666666666,\"#ed7953\"],[0.7777777777777778,\"#fb9f3a\"],[0.8888888888888888,\"#fdca26\"],[1.0,\"#f0f921\"]],\"type\":\"contour\"}],\"contourcarpet\":[{\"colorbar\":{\"outlinewidth\":0,\"ticks\":\"\"},\"type\":\"contourcarpet\"}],\"heatmap\":[{\"colorbar\":{\"outlinewidth\":0,\"ticks\":\"\"},\"colorscale\":[[0.0,\"#0d0887\"],[0.1111111111111111,\"#46039f\"],[0.2222222222222222,\"#7201a8\"],[0.3333333333333333,\"#9c179e\"],[0.4444444444444444,\"#bd3786\"],[0.5555555555555556,\"#d8576b\"],[0.6666666666666666,\"#ed7953\"],[0.7777777777777778,\"#fb9f3a\"],[0.8888888888888888,\"#fdca26\"],[1.0,\"#f0f921\"]],\"type\":\"heatmap\"}],\"heatmapgl\":[{\"colorbar\":{\"outlinewidth\":0,\"ticks\":\"\"},\"colorscale\":[[0.0,\"#0d0887\"],[0.1111111111111111,\"#46039f\"],[0.2222222222222222,\"#7201a8\"],[0.3333333333333333,\"#9c179e\"],[0.4444444444444444,\"#bd3786\"],[0.5555555555555556,\"#d8576b\"],[0.6666666666666666,\"#ed7953\"],[0.7777777777777778,\"#fb9f3a\"],[0.8888888888888888,\"#fdca26\"],[1.0,\"#f0f921\"]],\"type\":\"heatmapgl\"}],\"histogram\":[{\"marker\":{\"pattern\":{\"fillmode\":\"overlay\",\"size\":10,\"solidity\":0.2}},\"type\":\"histogram\"}],\"histogram2d\":[{\"colorbar\":{\"outlinewidth\":0,\"ticks\":\"\"},\"colorscale\":[[0.0,\"#0d0887\"],[0.1111111111111111,\"#46039f\"],[0.2222222222222222,\"#7201a8\"],[0.3333333333333333,\"#9c179e\"],[0.4444444444444444,\"#bd3786\"],[0.5555555555555556,\"#d8576b\"],[0.6666666666666666,\"#ed7953\"],[0.7777777777777778,\"#fb9f3a\"],[0.8888888888888888,\"#fdca26\"],[1.0,\"#f0f921\"]],\"type\":\"histogram2d\"}],\"histogram2dcontour\":[{\"colorbar\":{\"outlinewidth\":0,\"ticks\":\"\"},\"colorscale\":[[0.0,\"#0d0887\"],[0.1111111111111111,\"#46039f\"],[0.2222222222222222,\"#7201a8\"],[0.3333333333333333,\"#9c179e\"],[0.4444444444444444,\"#bd3786\"],[0.5555555555555556,\"#d8576b\"],[0.6666666666666666,\"#ed7953\"],[0.7777777777777778,\"#fb9f3a\"],[0.8888888888888888,\"#fdca26\"],[1.0,\"#f0f921\"]],\"type\":\"histogram2dcontour\"}],\"mesh3d\":[{\"colorbar\":{\"outlinewidth\":0,\"ticks\":\"\"},\"type\":\"mesh3d\"}],\"parcoords\":[{\"line\":{\"colorbar\":{\"outlinewidth\":0,\"ticks\":\"\"}},\"type\":\"parcoords\"}],\"pie\":[{\"automargin\":true,\"type\":\"pie\"}],\"scatter\":[{\"marker\":{\"colorbar\":{\"outlinewidth\":0,\"ticks\":\"\"}},\"type\":\"scatter\"}],\"scatter3d\":[{\"line\":{\"colorbar\":{\"outlinewidth\":0,\"ticks\":\"\"}},\"marker\":{\"colorbar\":{\"outlinewidth\":0,\"ticks\":\"\"}},\"type\":\"scatter3d\"}],\"scattercarpet\":[{\"marker\":{\"colorbar\":{\"outlinewidth\":0,\"ticks\":\"\"}},\"type\":\"scattercarpet\"}],\"scattergeo\":[{\"marker\":{\"colorbar\":{\"outlinewidth\":0,\"ticks\":\"\"}},\"type\":\"scattergeo\"}],\"scattergl\":[{\"marker\":{\"colorbar\":{\"outlinewidth\":0,\"ticks\":\"\"}},\"type\":\"scattergl\"}],\"scattermapbox\":[{\"marker\":{\"colorbar\":{\"outlinewidth\":0,\"ticks\":\"\"}},\"type\":\"scattermapbox\"}],\"scatterpolar\":[{\"marker\":{\"colorbar\":{\"outlinewidth\":0,\"ticks\":\"\"}},\"type\":\"scatterpolar\"}],\"scatterpolargl\":[{\"marker\":{\"colorbar\":{\"outlinewidth\":0,\"ticks\":\"\"}},\"type\":\"scatterpolargl\"}],\"scatterternary\":[{\"marker\":{\"colorbar\":{\"outlinewidth\":0,\"ticks\":\"\"}},\"type\":\"scatterternary\"}],\"surface\":[{\"colorbar\":{\"outlinewidth\":0,\"ticks\":\"\"},\"colorscale\":[[0.0,\"#0d0887\"],[0.1111111111111111,\"#46039f\"],[0.2222222222222222,\"#7201a8\"],[0.3333333333333333,\"#9c179e\"],[0.4444444444444444,\"#bd3786\"],[0.5555555555555556,\"#d8576b\"],[0.6666666666666666,\"#ed7953\"],[0.7777777777777778,\"#fb9f3a\"],[0.8888888888888888,\"#fdca26\"],[1.0,\"#f0f921\"]],\"type\":\"surface\"}],\"table\":[{\"cells\":{\"fill\":{\"color\":\"#EBF0F8\"},\"line\":{\"color\":\"white\"}},\"header\":{\"fill\":{\"color\":\"#C8D4E3\"},\"line\":{\"color\":\"white\"}},\"type\":\"table\"}]},\"layout\":{\"annotationdefaults\":{\"arrowcolor\":\"#2a3f5f\",\"arrowhead\":0,\"arrowwidth\":1},\"autotypenumbers\":\"strict\",\"coloraxis\":{\"colorbar\":{\"outlinewidth\":0,\"ticks\":\"\"}},\"colorscale\":{\"diverging\":[[0,\"#8e0152\"],[0.1,\"#c51b7d\"],[0.2,\"#de77ae\"],[0.3,\"#f1b6da\"],[0.4,\"#fde0ef\"],[0.5,\"#f7f7f7\"],[0.6,\"#e6f5d0\"],[0.7,\"#b8e186\"],[0.8,\"#7fbc41\"],[0.9,\"#4d9221\"],[1,\"#276419\"]],\"sequential\":[[0.0,\"#0d0887\"],[0.1111111111111111,\"#46039f\"],[0.2222222222222222,\"#7201a8\"],[0.3333333333333333,\"#9c179e\"],[0.4444444444444444,\"#bd3786\"],[0.5555555555555556,\"#d8576b\"],[0.6666666666666666,\"#ed7953\"],[0.7777777777777778,\"#fb9f3a\"],[0.8888888888888888,\"#fdca26\"],[1.0,\"#f0f921\"]],\"sequentialminus\":[[0.0,\"#0d0887\"],[0.1111111111111111,\"#46039f\"],[0.2222222222222222,\"#7201a8\"],[0.3333333333333333,\"#9c179e\"],[0.4444444444444444,\"#bd3786\"],[0.5555555555555556,\"#d8576b\"],[0.6666666666666666,\"#ed7953\"],[0.7777777777777778,\"#fb9f3a\"],[0.8888888888888888,\"#fdca26\"],[1.0,\"#f0f921\"]]},\"colorway\":[\"#636efa\",\"#EF553B\",\"#00cc96\",\"#ab63fa\",\"#FFA15A\",\"#19d3f3\",\"#FF6692\",\"#B6E880\",\"#FF97FF\",\"#FECB52\"],\"font\":{\"color\":\"#2a3f5f\"},\"geo\":{\"bgcolor\":\"white\",\"lakecolor\":\"white\",\"landcolor\":\"#E5ECF6\",\"showlakes\":true,\"showland\":true,\"subunitcolor\":\"white\"},\"hoverlabel\":{\"align\":\"left\"},\"hovermode\":\"closest\",\"mapbox\":{\"style\":\"light\"},\"paper_bgcolor\":\"white\",\"plot_bgcolor\":\"#E5ECF6\",\"polar\":{\"angularaxis\":{\"gridcolor\":\"white\",\"linecolor\":\"white\",\"ticks\":\"\"},\"bgcolor\":\"#E5ECF6\",\"radialaxis\":{\"gridcolor\":\"white\",\"linecolor\":\"white\",\"ticks\":\"\"}},\"scene\":{\"xaxis\":{\"backgroundcolor\":\"#E5ECF6\",\"gridcolor\":\"white\",\"gridwidth\":2,\"linecolor\":\"white\",\"showbackground\":true,\"ticks\":\"\",\"zerolinecolor\":\"white\"},\"yaxis\":{\"backgroundcolor\":\"#E5ECF6\",\"gridcolor\":\"white\",\"gridwidth\":2,\"linecolor\":\"white\",\"showbackground\":true,\"ticks\":\"\",\"zerolinecolor\":\"white\"},\"zaxis\":{\"backgroundcolor\":\"#E5ECF6\",\"gridcolor\":\"white\",\"gridwidth\":2,\"linecolor\":\"white\",\"showbackground\":true,\"ticks\":\"\",\"zerolinecolor\":\"white\"}},\"shapedefaults\":{\"line\":{\"color\":\"#2a3f5f\"}},\"ternary\":{\"aaxis\":{\"gridcolor\":\"white\",\"linecolor\":\"white\",\"ticks\":\"\"},\"baxis\":{\"gridcolor\":\"white\",\"linecolor\":\"white\",\"ticks\":\"\"},\"bgcolor\":\"#E5ECF6\",\"caxis\":{\"gridcolor\":\"white\",\"linecolor\":\"white\",\"ticks\":\"\"}},\"title\":{\"x\":0.05},\"xaxis\":{\"automargin\":true,\"gridcolor\":\"white\",\"linecolor\":\"white\",\"ticks\":\"\",\"title\":{\"standoff\":15},\"zerolinecolor\":\"white\",\"zerolinewidth\":2},\"yaxis\":{\"automargin\":true,\"gridcolor\":\"white\",\"linecolor\":\"white\",\"ticks\":\"\",\"title\":{\"standoff\":15},\"zerolinecolor\":\"white\",\"zerolinewidth\":2}}},\"xaxis\":{\"anchor\":\"y\",\"domain\":[0.0,1.0]},\"yaxis\":{\"anchor\":\"x\",\"domain\":[0.9450000000000001,1.0]},\"xaxis2\":{\"anchor\":\"y2\",\"domain\":[0.0,1.0]},\"yaxis2\":{\"anchor\":\"x2\",\"domain\":[0.8400000000000001,0.8950000000000001]},\"xaxis3\":{\"anchor\":\"y3\",\"domain\":[0.0,1.0]},\"yaxis3\":{\"anchor\":\"x3\",\"domain\":[0.7350000000000001,0.7900000000000001]},\"xaxis4\":{\"anchor\":\"y4\",\"domain\":[0.0,1.0]},\"yaxis4\":{\"anchor\":\"x4\",\"domain\":[0.6300000000000001,0.6850000000000002]},\"xaxis5\":{\"anchor\":\"y5\",\"domain\":[0.0,1.0]},\"yaxis5\":{\"anchor\":\"x5\",\"domain\":[0.525,0.5800000000000001]},\"xaxis6\":{\"anchor\":\"y6\",\"domain\":[0.0,1.0]},\"yaxis6\":{\"anchor\":\"x6\",\"domain\":[0.42000000000000004,0.47500000000000003]},\"xaxis7\":{\"anchor\":\"y7\",\"domain\":[0.0,1.0]},\"yaxis7\":{\"anchor\":\"x7\",\"domain\":[0.31500000000000006,0.37000000000000005]},\"xaxis8\":{\"anchor\":\"y8\",\"domain\":[0.0,1.0]},\"yaxis8\":{\"anchor\":\"x8\",\"domain\":[0.21000000000000002,0.265]},\"xaxis9\":{\"anchor\":\"y9\",\"domain\":[0.0,1.0]},\"yaxis9\":{\"anchor\":\"x9\",\"domain\":[0.10500000000000001,0.16000000000000003]},\"xaxis10\":{\"anchor\":\"y10\",\"domain\":[0.0,1.0]},\"yaxis10\":{\"anchor\":\"x10\",\"domain\":[0.0,0.05500000000000001]},\"annotations\":[{\"font\":{\"size\":16},\"showarrow\":false,\"text\":\"Norm=0.5\",\"x\":0.5,\"xanchor\":\"center\",\"xref\":\"paper\",\"y\":1.0,\"yanchor\":\"bottom\",\"yref\":\"paper\"},{\"font\":{\"size\":16},\"showarrow\":false,\"text\":\"Norm=1\",\"x\":0.5,\"xanchor\":\"center\",\"xref\":\"paper\",\"y\":0.8950000000000001,\"yanchor\":\"bottom\",\"yref\":\"paper\"},{\"font\":{\"size\":16},\"showarrow\":false,\"text\":\"Norm=1.5\",\"x\":0.5,\"xanchor\":\"center\",\"xref\":\"paper\",\"y\":0.7900000000000001,\"yanchor\":\"bottom\",\"yref\":\"paper\"},{\"font\":{\"size\":16},\"showarrow\":false,\"text\":\"Norm=2\",\"x\":0.5,\"xanchor\":\"center\",\"xref\":\"paper\",\"y\":0.6850000000000002,\"yanchor\":\"bottom\",\"yref\":\"paper\"},{\"font\":{\"size\":16},\"showarrow\":false,\"text\":\"Norm=2.5\",\"x\":0.5,\"xanchor\":\"center\",\"xref\":\"paper\",\"y\":0.5800000000000001,\"yanchor\":\"bottom\",\"yref\":\"paper\"},{\"font\":{\"size\":16},\"showarrow\":false,\"text\":\"Norm=3\",\"x\":0.5,\"xanchor\":\"center\",\"xref\":\"paper\",\"y\":0.47500000000000003,\"yanchor\":\"bottom\",\"yref\":\"paper\"},{\"font\":{\"size\":16},\"showarrow\":false,\"text\":\"Norm=3.5\",\"x\":0.5,\"xanchor\":\"center\",\"xref\":\"paper\",\"y\":0.37000000000000005,\"yanchor\":\"bottom\",\"yref\":\"paper\"},{\"font\":{\"size\":16},\"showarrow\":false,\"text\":\"Norm=4\",\"x\":0.5,\"xanchor\":\"center\",\"xref\":\"paper\",\"y\":0.265,\"yanchor\":\"bottom\",\"yref\":\"paper\"},{\"font\":{\"size\":16},\"showarrow\":false,\"text\":\"Norm=4.5\",\"x\":0.5,\"xanchor\":\"center\",\"xref\":\"paper\",\"y\":0.16000000000000003,\"yanchor\":\"bottom\",\"yref\":\"paper\"},{\"font\":{\"size\":16},\"showarrow\":false,\"text\":\"Norm=5\",\"x\":0.5,\"xanchor\":\"center\",\"xref\":\"paper\",\"y\":0.05500000000000001,\"yanchor\":\"bottom\",\"yref\":\"paper\"}],\"legend\":{\"tracegroupgap\":410},\"height\":5000,\"width\":1000},                        {\"responsive\": true}                    ).then(function(){\n",
              "                            \n",
              "var gd = document.getElementById('66d73d62-5ccb-4674-9b91-1b4423cfd6c1');\n",
              "var x = new MutationObserver(function (mutations, observer) {{\n",
              "        var display = window.getComputedStyle(gd).display;\n",
              "        if (!display || display === 'none') {{\n",
              "            console.log([gd, 'removed!']);\n",
              "            Plotly.purge(gd);\n",
              "            observer.disconnect();\n",
              "        }}\n",
              "}});\n",
              "\n",
              "// Listen for the removal of the full notebook cells\n",
              "var notebookContainer = gd.closest('#notebook-container');\n",
              "if (notebookContainer) {{\n",
              "    x.observe(notebookContainer, {childList: true});\n",
              "}}\n",
              "\n",
              "// Listen for the clearing of the current output cell\n",
              "var outputEl = gd.closest('.output');\n",
              "if (outputEl) {{\n",
              "    x.observe(outputEl, {childList: true});\n",
              "}}\n",
              "\n",
              "                        })                };                            </script>        </div>\n",
              "</body>\n",
              "</html>"
            ]
          },
          "metadata": {}
        }
      ]
    },
    {
      "cell_type": "markdown",
      "source": [
        "Pelos gráficos acima, podemos notar que, conforme o tamanho do documento se distancia mais da média (para mais), ao aumentar o $b$ penalizamos mais o score, obtendo um score menor. Já ao ter documentos com tamanhos menores que a média, ao aumentar o $b$ aumentamos o score também.\n",
        "\n",
        "Logo, é muito importante escolher valores de $k_1$ e $b$ de acordo com a sua coleção de documentos!"
      ],
      "metadata": {
        "id": "gJKpdOeoPIk7"
      }
    },
    {
      "cell_type": "markdown",
      "source": [
        "## 2. Implementação\n",
        "\n",
        "Teremos duas etapas na implementação:\n",
        "\n",
        "- Função para criar o index reverso, onde já teremos deixar calculado as frequências e idfs\n",
        "- Classe do BM25, que irá calcular o score e retornar os top k elementos"
      ],
      "metadata": {
        "id": "By0hGDcaPl3V"
      }
    },
    {
      "cell_type": "code",
      "source": [
        "import math\n",
        "import re\n",
        "\n",
        "def tokenize(text):\n",
        "    \"\"\"Tokenize a document or query.\"\"\"\n",
        "    words = re.findall(r'\\w+', text.lower())\n",
        "    return words\n",
        "\n",
        "def build_index(documents):\n",
        "    \"\"\"Build an inverted index from the documents.\"\"\"\n",
        "    index = {}\n",
        "    doc_term_freqs = []\n",
        "\n",
        "    for i, document in enumerate(documents):\n",
        "        # Tokenize the document\n",
        "        terms = tokenize(document)\n",
        "\n",
        "        # Count the term frequencies\n",
        "        term_freqs = {}\n",
        "        for term in terms:\n",
        "            term_freqs[term] = term_freqs.get(term, 0) + 1\n",
        "\n",
        "        doc_term_freqs.append(term_freqs)\n",
        "\n",
        "        # Add the document to the index for each term it contains\n",
        "        for term in term_freqs:\n",
        "            if term not in index:\n",
        "                index[term] = []\n",
        "            index[term].append((i, term_freqs[term]))\n",
        "\n",
        "    # Calculate the inverse document frequencies\n",
        "    N = len(documents)\n",
        "    idfs = {term: math.log(1 + ((N - len(postings) + 0.5) / (len(postings) + 0.5))) for term, postings in index.items()}\n",
        "\n",
        "    # Return the inverted index and document term frequencies\n",
        "    return {\"doc_term_freqs\": doc_term_freqs, \"idfs\": idfs}"
      ],
      "metadata": {
        "id": "NqokIVA3ZMjz"
      },
      "execution_count": 44,
      "outputs": []
    },
    {
      "cell_type": "code",
      "source": [
        "class BM25():\n",
        "\n",
        "  def __init__(self, index, k, b, tokenizer):\n",
        "    self.doc_term_freqs = index[\"doc_term_freqs\"]\n",
        "    self.idfs = index[\"idfs\"]\n",
        "    self.k = k\n",
        "    self.b = b\n",
        "    self.tokenizer = tokenizer\n",
        "    self.documents_lengths = [self._count_tokens(doc) for doc in self.doc_term_freqs]\n",
        "    self.avg_doc_len = sum(self.documents_lengths) / len(self.doc_term_freqs)\n",
        "\n",
        "  def _count_tokens(self, document):\n",
        "    \"\"\"Counts the amount of token in a document\"\"\"\n",
        "    total = 0\n",
        "    for token_count in document.values():\n",
        "      total += token_count\n",
        "    return total\n",
        "\n",
        "  def search(self, query: str, k: int = 10):\n",
        "    \"\"\"Returns the top k documents related to the query\"\"\"\n",
        "    scores = []\n",
        "    tokenized_query = self.tokenizer(query)\n",
        "    for i in range(len(self.doc_term_freqs)):\n",
        "      scores.append((self.score(tokenized_query, i), i))\n",
        "    scores.sort(reverse=True)\n",
        "    return scores[:k]\n",
        "\n",
        "  def score(self, tokenized_query, doc_id: int):\n",
        "    \"\"\"Calculates bm25 score for a query and a document\"\"\"\n",
        "    score = 0.\n",
        "    norm = self.documents_lengths[doc_id] / self.avg_doc_len\n",
        "    for token in tokenized_query:\n",
        "      if token not in self.doc_term_freqs[doc_id].keys():\n",
        "        score += 0.\n",
        "      else:\n",
        "        term_freq = self.doc_term_freqs[doc_id][token]\n",
        "        idf = self.idfs[token]\n",
        "\n",
        "        numerator = idf * term_freq * (self.k + 1)\n",
        "        denominator = (term_freq * self.k) / (term_freq + (self.k * (1 - self.b + self.b * norm)))\n",
        "\n",
        "        score += (numerator / denominator)\n",
        "    \n",
        "    return score"
      ],
      "metadata": {
        "id": "VKf3BCnaP7Rj"
      },
      "execution_count": 45,
      "outputs": []
    },
    {
      "cell_type": "code",
      "source": [
        "test_documents = [\n",
        "    \"esse é o primeiro texto\",\n",
        "    \"Nesse texto iremos falar sobre os fundamentos da inteligencia artificial\",\n",
        "    \"Machine learning é um subcampo da inteligencia artificial\",\n",
        "    \"palavras aleatorias oi, hoje, amanha, circo, casa, teto\"\n",
        "]\n",
        "\n",
        "query_equal = \"esse é o primeiro texto\"\n",
        "query_diff = \"Quais são as subareas da inteligencia artificial?\""
      ],
      "metadata": {
        "id": "trhxF-RheIKa"
      },
      "execution_count": 46,
      "outputs": []
    },
    {
      "cell_type": "code",
      "source": [
        "index = build_index(test_documents)\n",
        "bm25 = BM25(index, 1.5, 0.8, tokenize)"
      ],
      "metadata": {
        "id": "RxaFgs1terlN"
      },
      "execution_count": 48,
      "outputs": []
    },
    {
      "cell_type": "code",
      "source": [
        "assert bm25.search(query_equal)[0][1] == 0\n",
        "assert bm25.search(query_diff)[0][1] == 1 and bm25.search(query_diff)[1][1] == 2"
      ],
      "metadata": {
        "id": "6gkWbYz-eu8b"
      },
      "execution_count": 52,
      "outputs": []
    }
  ]
}